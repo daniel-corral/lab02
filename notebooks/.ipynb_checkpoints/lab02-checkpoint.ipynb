{
 "cells": [
  {
   "cell_type": "markdown",
   "metadata": {},
   "source": [
    "# Conceptos básicos: regresión logística y descenso del gradiente en Python"
   ]
  },
  {
   "cell_type": "markdown",
   "metadata": {},
   "source": [
    "## CUNEF : MDS-1 - Machine learning (2020/2021) "
   ]
  },
  {
   "cell_type": "markdown",
   "metadata": {},
   "source": [
    "## Daniel Corral Ruiz"
   ]
  },
  {
   "cell_type": "markdown",
   "metadata": {},
   "source": [
    "El método del gradiente descendiente es muy usado para entrenar redes neuronales y también en aprendizaje profundo (deep learning). En particular, nos interesa utilizar el gradiente descendiente para estimar los parámetros que minimizan la función de coste."
   ]
  },
  {
   "cell_type": "markdown",
   "metadata": {},
   "source": [
    "# Carga de librerías"
   ]
  },
  {
   "cell_type": "code",
   "execution_count": 1,
   "metadata": {},
   "outputs": [],
   "source": [
    "import numpy as np\n",
    "import matplotlib.pyplot as plt\n",
    "import seaborn as sns\n",
    "import pandas as pd\n",
    "plt.style.use(\"ggplot\")\n",
    "%matplotlib inline\n",
    "from PIL import Image\n",
    "from pylab import rcParams\n",
    "rcParams['figure.figsize'] = 8, 8"
   ]
  },
  {
   "cell_type": "markdown",
   "metadata": {},
   "source": [
    "# Trabajamos con el dataset"
   ]
  },
  {
   "cell_type": "code",
   "execution_count": 2,
   "metadata": {},
   "outputs": [
    {
     "data": {
      "text/html": [
       "<div>\n",
       "<style scoped>\n",
       "    .dataframe tbody tr th:only-of-type {\n",
       "        vertical-align: middle;\n",
       "    }\n",
       "\n",
       "    .dataframe tbody tr th {\n",
       "        vertical-align: top;\n",
       "    }\n",
       "\n",
       "    .dataframe thead th {\n",
       "        text-align: right;\n",
       "    }\n",
       "</style>\n",
       "<table border=\"1\" class=\"dataframe\">\n",
       "  <thead>\n",
       "    <tr style=\"text-align: right;\">\n",
       "      <th></th>\n",
       "      <th>score-1</th>\n",
       "      <th>score-2</th>\n",
       "      <th>label</th>\n",
       "    </tr>\n",
       "  </thead>\n",
       "  <tbody>\n",
       "    <tr>\n",
       "      <th>0</th>\n",
       "      <td>34.623660</td>\n",
       "      <td>78.024693</td>\n",
       "      <td>0</td>\n",
       "    </tr>\n",
       "    <tr>\n",
       "      <th>1</th>\n",
       "      <td>30.286711</td>\n",
       "      <td>43.894998</td>\n",
       "      <td>0</td>\n",
       "    </tr>\n",
       "    <tr>\n",
       "      <th>2</th>\n",
       "      <td>35.847409</td>\n",
       "      <td>72.902198</td>\n",
       "      <td>0</td>\n",
       "    </tr>\n",
       "    <tr>\n",
       "      <th>3</th>\n",
       "      <td>60.182599</td>\n",
       "      <td>86.308552</td>\n",
       "      <td>1</td>\n",
       "    </tr>\n",
       "    <tr>\n",
       "      <th>4</th>\n",
       "      <td>79.032736</td>\n",
       "      <td>75.344376</td>\n",
       "      <td>1</td>\n",
       "    </tr>\n",
       "  </tbody>\n",
       "</table>\n",
       "</div>"
      ],
      "text/plain": [
       "     score-1    score-2  label\n",
       "0  34.623660  78.024693      0\n",
       "1  30.286711  43.894998      0\n",
       "2  35.847409  72.902198      0\n",
       "3  60.182599  86.308552      1\n",
       "4  79.032736  75.344376      1"
      ]
     },
     "execution_count": 2,
     "metadata": {},
     "output_type": "execute_result"
    }
   ],
   "source": [
    "data = pd.read_csv(\"..\\\\data\\\\4_1_data.csv\")\n",
    "data.head()"
   ]
  },
  {
   "cell_type": "code",
   "execution_count": 3,
   "metadata": {},
   "outputs": [],
   "source": [
    "puntuacion = data[['score-1', 'score-2']].values # creamos un objeto llamado \"puntuación\". Este objeto muestra la primera y \n",
    "# segunda columna de nuestro dataset con las puntuaciiones obtenidas.\n",
    "resultados = data['label'].values # creamos un segundo objeto llamado \"resultado\". Este objeto muestra si ha aprobado o no,\n",
    "# con un valor de 1 si ha aprobado y un 0 en el caso contrario."
   ]
  },
  {
   "cell_type": "code",
   "execution_count": 4,
   "metadata": {},
   "outputs": [
    {
     "data": {
      "image/png": "[encoded data removed]",
      "text/plain": [
       "<Figure size 576x576 with 1 Axes>"
      ]
     },
     "metadata": {
      "needs_background": "light"
     },
     "output_type": "display_data"
    }
   ],
   "source": [
    "aprobado = (resultados == 1).reshape(100, 1) # en el caso que sea el resultado 1 es aprobado. FILTROS\n",
    "suspenso = (resultados == 0).reshape(100, 1) # en el caso que sea el resultado 0 es suspenso. FILTROS\n",
    "\n",
    "# Creamos un gráfico con las puntuaciones obtenidas, así como si ha superado la prueba o no (se muetra en color rojo cuando NO\n",
    "# la ha superado y en verde cuando SI).\n",
    "notas = sns.scatterplot(x = puntuacion[aprobado[:, 0], 0], # los puntos en el eje \"x\" (score-1) cuando sean APROBADOS gracias...\n",
    "                                                           # al filtro.\n",
    "                     y = puntuacion[aprobado[:, 0], 1],    # los puntos en el eje \"y\" (score-2) cuando sean APROBADOS gracias...\n",
    "                                                           # al filtro.\n",
    "                     marker = \"o\",                         # forma del punto.                    \n",
    "                     color = \"green\",                      # color verde para los aprobados.\n",
    "                     s = 100)                              # tamaño de la forma del punto.\n",
    "sns.scatterplot(x = puntuacion[suspenso[:, 0], 0],         # los puntos en el eje \"x\" (score-1) cuando sean SUSPENSOS gracias...\n",
    "                                                           # al filtro.\n",
    "                y = puntuacion[suspenso[:, 0], 1],         # los puntos en el eje \"y\" (score-2) cuando sean SUSPENSOS gracias...\n",
    "                                                           # al filtro.\n",
    "                marker = \"o\",                              # forma del punto.\n",
    "                color = \"red\",                             # color verde para los aprobados.\n",
    "                s = 100)                                   # tamaño de la forma del punto.\n",
    "\n",
    "notas.set(xlabel=\"Puntuaciones 1\", ylabel=\"Puntuaciones 2\") # cambiamos nombre a los ejes \"x\" e \"y\".\n",
    "notas.legend([\"Aprobados\", \"Suspensos\"])                    # incluimos leyenda al gráfico.\n",
    "plt.show();                                                 # mostramos."
   ]
  },
  {
   "cell_type": "markdown",
   "metadata": {},
   "source": [
    "# Definimos función Sigmoide"
   ]
  },
  {
   "cell_type": "markdown",
   "metadata": {},
   "source": [
    "Muchos procesos naturales y curvas de aprendizaje de sistemas complejos muestran una progresión temporal desde unos niveles bajos al inicio, hasta acercarse a un clímax transcurrido un cierto tiempo; la transición se produce en una región caracterizada por una fuerte aceleración intermedia. La función sigmoide permite describir esta evolución. Su gráfica tiene una típica forma de \"S\". A menudo la función sigmoide se refiere al caso particular de la función logística."
   ]
  },
  {
   "cell_type": "code",
   "execution_count": 5,
   "metadata": {},
   "outputs": [
    {
     "data": {
      "image/png": "[encoded data removed]",
      "text/plain": [
       "<PIL.PngImagePlugin.PngImageFile image mode=RGBA size=172x72 at 0x2732A706688>"
      ]
     },
     "execution_count": 5,
     "metadata": {},
     "output_type": "execute_result"
    }
   ],
   "source": [
    "i = Image.open('..\\docs\\Sigmoid.PNG','r')\n",
    "i"
   ]
  },
  {
   "cell_type": "code",
   "execution_count": 6,
   "metadata": {},
   "outputs": [
    {
     "data": {
      "image/png": "[encoded data removed]",
      "text/plain": [
       "<Figure size 576x576 with 1 Axes>"
      ]
     },
     "metadata": {
      "needs_background": "light"
     },
     "output_type": "display_data"
    }
   ],
   "source": [
    "def sigmoide(x):    \n",
    "    return 1/ (1 + np.exp(-x))            # definimos la función sigmoide.\n",
    "x = np.arange(-10., 10., 0.2)             # creamos rango de números para su representación.\n",
    "sig = sigmoide(x)\n",
    "plt.plot(x,sig)                           # representamos.\n",
    "plt.show()"
   ]
  },
  {
   "cell_type": "markdown",
   "metadata": {},
   "source": [
    "# Función de coste"
   ]
  },
  {
   "cell_type": "markdown",
   "metadata": {},
   "source": [
    "El error global es la suma de todos los errores teniendo en cuenta todos los errores.El objetivo de la regresión logística es minimizar la función de costo: \n",
    "\n",
    "\n"
   ]
  },
  {
   "cell_type": "code",
   "execution_count": 7,
   "metadata": {},
   "outputs": [
    {
     "data": {
      "image/png": "[encoded data removed]",
      "text/plain": [
       "<PIL.PngImagePlugin.PngImageFile image mode=RGBA size=598x53 at 0x2732A71D148>"
      ]
     },
     "execution_count": 7,
     "metadata": {},
     "output_type": "execute_result"
    }
   ],
   "source": [
    "costo = Image.open('..\\docs\\Cost.PNG','r')\n",
    "costo"
   ]
  },
  {
   "cell_type": "markdown",
   "metadata": {},
   "source": [
    "Mientras que la función de gradiente:"
   ]
  },
  {
   "cell_type": "code",
   "execution_count": 8,
   "metadata": {},
   "outputs": [
    {
     "data": {
      "image/png": "[encoded data removed]",
      "text/plain": [
       "<PIL.PngImagePlugin.PngImageFile image mode=RGBA size=335x69 at 0x2732A721A48>"
      ]
     },
     "execution_count": 8,
     "metadata": {},
     "output_type": "execute_result"
    }
   ],
   "source": [
    "gradiente = Image.open('..\\docs\\Gradient.PNG','r')\n",
    "gradiente"
   ]
  },
  {
   "cell_type": "code",
   "execution_count": 9,
   "metadata": {},
   "outputs": [],
   "source": [
    "def coste (theta, x, y):                                          # definimos función de coste\n",
    "    m = len(y)                                                    # m es logitud de y\n",
    "    y_pred = sigmoide(np.dot(x , theta))                          # producto de matrices aplicamos funcion sigmoide\n",
    "    error = (y * np.log(y_pred)) + ((1 - y) * np.log(1 - y_pred)) # función de error (lo que hay dentro del corchete)\n",
    "    cost = -1 / m * sum(error)                                    # añadimos en el denominador el sumatorio del error\n",
    "    gradient = 1 / m * np.dot(x.transpose(), (y_pred - y))        # gradiente\n",
    "    return cost[0] , gradient"
   ]
  },
  {
   "cell_type": "markdown",
   "metadata": {},
   "source": [
    "El gradiente descendiente funciona mucho mejor cuando los datos tienen una escala similar. Esto se debe a la forma geométrica de la función de coste. Cuando todas las dimensiones tiene una escala similar, podemos esperar la forma de cuenco multidimensional. Sin embargo, si distintas dimensiones tienen una escala diferente, la forma geométrica será muy diferente. Esto hace que el gradiente descendiente tarde mucho en converger."
   ]
  },
  {
   "cell_type": "code",
   "execution_count": 10,
   "metadata": {},
   "outputs": [
    {
     "name": "stdout",
     "output_type": "stream",
     "text": [
      "Coste al inicializar: 0.693147180559946\n",
      "Gradiente al inicializar: [[-0.1       ]\n",
      " [-0.28122914]\n",
      " [-0.25098615]]\n"
     ]
    }
   ],
   "source": [
    "mean_scores = np.mean(puntuacion, axis=0) # media de las puntuaciones\n",
    "std_scores = np.std(puntuacion, axis=0)   # desviación de las puntuaciones\n",
    "puntuaciones = (puntuacion - mean_scores) / std_scores # Estandarizamos\n",
    "\n",
    "rows = puntuaciones.shape[0] # filas de puntuaciones\n",
    "cols = puntuaciones.shape[1] # columnas de puntuaciones\n",
    "\n",
    "X = np.append(np.ones((rows, 1)), puntuaciones, axis=1) # incluimos el intercepto, vector de 1.\n",
    "y = resultados.reshape(rows, 1)\n",
    "\n",
    "theta_init = np.zeros((cols + 1, 1))       # creamos array de 0\n",
    "cost, gradient = coste(theta_init, X, y)\n",
    "\n",
    "print(\"Coste al inicializar:\", cost)\n",
    "print(\"Gradiente al inicializar:\", gradient)"
   ]
  },
  {
   "cell_type": "markdown",
   "metadata": {},
   "source": [
    "# Gradiente y coste"
   ]
  },
  {
   "cell_type": "markdown",
   "metadata": {},
   "source": [
    "Minimizar la función de costo actualizando la ecuación y repetirla hasta la convergencia."
   ]
  },
  {
   "cell_type": "code",
   "execution_count": 11,
   "metadata": {},
   "outputs": [],
   "source": [
    "def gradiente(x, y, theta, alpha, iterations): # definimos la funcion del gradiente\n",
    "    costs = []\n",
    "    for i in range(iterations):\n",
    "        cost, gradient = coste(theta, x, y)\n",
    "        theta -= (alpha * gradient) \n",
    "        costs.append(cost)\n",
    "    return theta, costs"
   ]
  },
  {
   "cell_type": "markdown",
   "metadata": {},
   "source": [
    "# Valores de aprendizaje e interacción"
   ]
  },
  {
   "cell_type": "markdown",
   "metadata": {},
   "source": [
    "Podemos variar el valor del ratio de aprendizaje, valores entre 0 y 1. El ratio de aprendizaje (learning rate en inglés) es necesario para asegurarnos que no vamos dando pasos grandes durante el descenso. Si el ratio de aprendizaje es demasiado grande, los cambios en la gráfica serán también muy grandes y será difícil encontrar los coeficientes que minimicen la función de coste. Por otra parte, si el ratio de aprendizaje es demasiado pequeño, el gradiente descendiente tardará mucho en encontrar la solución adecuada.  \n",
    "En nuestro caso utilizamos un nivel de alpha de 1 y un total de 200 interacciones."
   ]
  },
  {
   "cell_type": "code",
   "execution_count": 12,
   "metadata": {},
   "outputs": [],
   "source": [
    "# theta, costs = gradiente(X, y, theta_init, 1, 50)     # Ratio de aprendizaje de 1 y 50 interacciones"
   ]
  },
  {
   "cell_type": "code",
   "execution_count": 13,
   "metadata": {},
   "outputs": [],
   "source": [
    "# theta, costs = gradiente(X, y, theta_init, 1, 100)    # Ratio de aprendizaje de 1 y 100 interacciones"
   ]
  },
  {
   "cell_type": "code",
   "execution_count": 14,
   "metadata": {},
   "outputs": [],
   "source": [
    "theta, costs = gradiente(X, y, theta_init, 1, 200)      # Ratio de aprendizaje de 1 y 200 interacciones"
   ]
  },
  {
   "cell_type": "code",
   "execution_count": 15,
   "metadata": {},
   "outputs": [],
   "source": [
    "# theta, costs = gradiente(X, y, theta_init, 0.5, 300)  # Ratio de aprendizaje de 0.5 y 300 interacciones"
   ]
  },
  {
   "cell_type": "code",
   "execution_count": 16,
   "metadata": {},
   "outputs": [],
   "source": [
    "# theta, costs = gradiente(X, y, theta_init, 0.35, 500) # Ratio de aprendizaje de 0.35 y 500 interacciones"
   ]
  },
  {
   "cell_type": "code",
   "execution_count": 17,
   "metadata": {},
   "outputs": [
    {
     "name": "stdout",
     "output_type": "stream",
     "text": [
      "Theta valor despues de descender: [[1.50850586]\n",
      " [3.5468762 ]\n",
      " [3.29383709]]\n",
      "Resultado del coste: 0.20489382036036602\n"
     ]
    }
   ],
   "source": [
    "print(\"Theta valor despues de descender:\", theta)\n",
    "print(\"Resultado del coste:\", costs[-1])"
   ]
  },
  {
   "cell_type": "markdown",
   "metadata": {},
   "source": [
    "# Representación gráfica"
   ]
  },
  {
   "cell_type": "code",
   "execution_count": 18,
   "metadata": {},
   "outputs": [
    {
     "data": {
      "image/png": "[encoded data removed]",
      "text/plain": [
       "<Figure size 576x576 with 1 Axes>"
      ]
     },
     "metadata": {
      "needs_background": "light"
     },
     "output_type": "display_data"
    }
   ],
   "source": [
    "plt.plot(costs)\n",
    "plt.xlabel(\"Interacciones\")\n",
    "plt.ylabel(\"$J(\\Theta)$\")\n",
    "plt.title(\"Valores de la función de costo sobre las iteraciones de descenso de gradiente\");"
   ]
  },
  {
   "cell_type": "markdown",
   "metadata": {},
   "source": [
    "En este caso podemos ver un total de 200 interacciones con un ratio de aprendizaje de 1. Podemos observar en las primeras interacciones la bajada del coste de forma progresiva, es en el rango de interacciones 125 - 150 cuando el valor del coste comienza a descender lentamente situandose en torno al valor 0.204893."
   ]
  },
  {
   "cell_type": "markdown",
   "metadata": {},
   "source": [
    "# Referencias"
   ]
  },
  {
   "cell_type": "markdown",
   "metadata": {},
   "source": [
    "- https://medium.com/metadatos/todo-lo-que-necesitas-saber-sobre-el-descenso-del-gradiente-aplicado-a-redes-neuronales-19bdbb706a78"
   ]
  },
  {
   "cell_type": "markdown",
   "metadata": {},
   "source": [
    "- https://www.analyticslane.com/2018/12/21/implementacion-del-metodo-descenso-del-gradiente-en-python/"
   ]
  },
  {
   "cell_type": "markdown",
   "metadata": {},
   "source": [
    "- http://www.cs.us.es/~fsancho/?e=165"
   ]
  }
 ],
 "metadata": {
  "kernelspec": {
   "display_name": "gradient",
   "language": "python",
   "name": "gradient"
  },
  "language_info": {
   "codemirror_mode": {
    "name": "ipython",
    "version": 3
   },
   "file_extension": ".py",
   "mimetype": "text/x-python",
   "name": "python",
   "nbconvert_exporter": "python",
   "pygments_lexer": "ipython3",
   "version": "3.7.9"
  }
 },
 "nbformat": 4,
 "nbformat_minor": 4
}
